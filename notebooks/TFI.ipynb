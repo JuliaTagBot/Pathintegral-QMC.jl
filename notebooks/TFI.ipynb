{
 "cells": [
  {
   "cell_type": "code",
   "execution_count": 1,
   "metadata": {},
   "outputs": [],
   "source": [
    "using Random"
   ]
  },
  {
   "cell_type": "code",
   "execution_count": 2,
   "metadata": {},
   "outputs": [
    {
     "data": {
      "text/plain": [
       "nunitcells (generic function with 1 method)"
      ]
     },
     "execution_count": 2,
     "metadata": {},
     "output_type": "execute_result"
    }
   ],
   "source": [
    "\"\"\"\n",
    "D: the dimension.\n",
    "Z: the coordination number.\n",
    "\"\"\"\n",
    "abstract type AbstractLattice{D, Z} end\n",
    "\n",
    "struct Chain<:AbstractLattice{1, 2}\n",
    "    length::Int\n",
    "    Chain(length::Int) = new(length)\n",
    "end\n",
    "\n",
    "nsite(c::Chain) = c.length\n",
    "neighbors(c::Chain, i::Int) = [mod(i-2, c.length)+1, mod(i, c.length)+1]\n",
    "nsite(c::Chain) = c.length\n",
    "nunitcells(c::Chain) = 1"
   ]
  },
  {
   "cell_type": "code",
   "execution_count": 13,
   "metadata": {},
   "outputs": [
    {
     "data": {
      "text/plain": [
       "nsite (generic function with 2 methods)"
      ]
     },
     "execution_count": 13,
     "metadata": {},
     "output_type": "execute_result"
    }
   ],
   "source": [
    "const SSESpins = Matrix{Int16}\n",
    "ssespins(nsite::Int, ntau::Int) = rand([-Int16(1), Int16(1)], nsite, ntau)\n",
    "ntau(spins::SSESpins) = size(spins, 2)\n",
    "nsite(spins::SSESpins) = size(spins, 1)"
   ]
  },
  {
   "cell_type": "code",
   "execution_count": 14,
   "metadata": {},
   "outputs": [
    {
     "data": {
      "text/plain": [
       "J_Trotter (generic function with 1 method)"
      ]
     },
     "execution_count": 14,
     "metadata": {},
     "output_type": "execute_result"
    }
   ],
   "source": [
    "abstract type AbstractModel{LT<:AbstractLattice} end\n",
    "\n",
    "struct TFIModel{LT<:AbstractLattice} <: AbstractModel{LT}\n",
    "    J0::Float64\n",
    "    Γ::Float64\n",
    "    temp::Float64\n",
    "    lattice::LT\n",
    "    \n",
    "    function TFIModel(J0::Real, Γ::Real, temp::Real, lattice::LT) where LT<:AbstractLattice\n",
    "        new{LT}(Float64(J0), Float64(Γ), Float64(temp), lattice)\n",
    "    end\n",
    "end"
   ]
  },
  {
   "cell_type": "code",
   "execution_count": 16,
   "metadata": {},
   "outputs": [],
   "source": [
    "N = 27\n",
    "lt = Chain(N)\n",
    "model = TFIModel(1.0, 0.5, 0.1, lt)\n",
    "spins = ssespins(N, 200);"
   ]
  },
  {
   "cell_type": "code",
   "execution_count": 17,
   "metadata": {},
   "outputs": [
    {
     "data": {
      "text/plain": [
       "chseed (generic function with 1 method)"
      ]
     },
     "execution_count": 17,
     "metadata": {},
     "output_type": "execute_result"
    }
   ],
   "source": [
    "struct MCConfig\n",
    "    ntherm::Int\n",
    "    nmeas::Int\n",
    "    seed::Int\n",
    "end\n",
    "\n",
    "chseed(mcc::MCConfig, seed::Int) = MCConfig(mcc.ntherm, mcc.nmeas, mcc.nsa, seed)"
   ]
  },
  {
   "cell_type": "code",
   "execution_count": 40,
   "metadata": {},
   "outputs": [],
   "source": [
    "struct SSEBin{TPS<:Tuple}\n",
    "    binsize::Int\n",
    "    data::Vector{Vector}\n",
    "end\n",
    "SSEBin(size::Int, types::Type...) = SSEBin{types}([tp[] for tp in types])\n",
    "function push!(bin::SSEBin, item)\n",
    "    for (ii, vec) in zip(item, bin.data)\n",
    "        push!(vec, ii)\n",
    "    end\n",
    "    bin\n",
    "end\n",
    "\n",
    "filled(bin::SSEBin) = length(bin.data[1])%bin.binsize == 0\n",
    "function Base.show(io::IO, bin::SSEBin)  # only show the mean of last batch\n",
    "    print(io, [mean(v[end-bin.binsize:end]) for v in bin.data])\n",
    "end"
   ]
  },
  {
   "cell_type": "code",
   "execution_count": 52,
   "metadata": {},
   "outputs": [
    {
     "ename": "LoadError",
     "evalue": "syntax: missing comma or } in argument list",
     "output_type": "error",
     "traceback": [
      "syntax: missing comma or } in argument list",
      ""
     ]
    }
   ],
   "source": [
    "types = (Int, Float64)\n",
    "SSEBin{TupleFloat64, Int32)}(50, [[]])"
   ]
  },
  {
   "cell_type": "code",
   "execution_count": 29,
   "metadata": {},
   "outputs": [
    {
     "data": {
      "text/plain": [
       "sweep! (generic function with 1 method)"
      ]
     },
     "execution_count": 29,
     "metadata": {},
     "output_type": "execute_result"
    }
   ],
   "source": [
    "function sweep!(model::AbstractModel, spins::SSESpins)\n",
    "    lt = model.lattice\n",
    "    NN = nsite(lt)\n",
    "    NTAU = ntau(spins)\n",
    "    beta = 1/model.temp\n",
    "    dtau = beta/NTAU\n",
    "    \n",
    "    J_spatial = model.J0/NTAU\n",
    "    J_Trotter = - log(tanh(dtau*model.Γ)) * model.temp / 2\n",
    "    \n",
    "    # visit each spin on the space-time lattice in sequential order \n",
    "    for itau = 1:NTAU\n",
    "        for ir = 1:NN\n",
    "            # interaction energy with the neighbouring spins in real space and \n",
    "            # the neighbouring spins in imaginary time \n",
    "            exchange_field = model.J0 * sum(view(spins, neighbors(lt, ir),itau))\n",
    "            # periodic boundary conditions in imaginary time \n",
    "            itau_up = mod(itau, NTAU) + 1\n",
    "            itau_down = mod(itau-2, NTAU) + 1\n",
    "\n",
    "            exchange_field += J_Trotter * ( spins[ir,itau_up] + spins[ir,itau_down])\n",
    "            energy_diff =  2 * spins[ir,itau] * exchange_field   # Note: J_spatial > 0 corresponds fo FM interactions \n",
    "            # Metropolis-Hastings update: flip the spin with probability min(1, exp(-beta*energy_diff))\n",
    "            energy_diff < 0 || rand() < exp(-beta*energy_diff) && (spins[ir, itau] = -spins[ir, itau])\n",
    "        end\n",
    "    end\n",
    "    spins\n",
    "end"
   ]
  },
  {
   "cell_type": "code",
   "execution_count": 32,
   "metadata": {},
   "outputs": [],
   "source": [
    "sweep!(model, spins);"
   ]
  },
  {
   "cell_type": "code",
   "execution_count": 34,
   "metadata": {},
   "outputs": [
    {
     "data": {
      "text/plain": [
       "measure (generic function with 1 method)"
      ]
     },
     "execution_count": 34,
     "metadata": {},
     "output_type": "execute_result"
    }
   ],
   "source": [
    "\"\"\"\n",
    "measure observables\n",
    "\n",
    "Returns a tuple of (E, Mz, Mz², Mz⁴).\n",
    "\"\"\"\n",
    "function measure(model::AbstractModel, spins::SSESpins)\n",
    "    lt = model.lattice\n",
    "    NN = nsite(lt)\n",
    "    NTAU = ntau(spins)\n",
    "    beta = 1/model.temp\n",
    "    dtau = beta/NTAU\n",
    "    \n",
    "    J_spatial = model.J0/NTAU\n",
    "    J_Trotter = - log(tanh(dtau*model.Γ)) * model.temp / 2\n",
    "    # Measure the total energy \n",
    "    energy_tot = 0.0\n",
    "    magnz = 0.0\n",
    "    for itau = 1:NTAU\n",
    "        for ir = 1:NN\n",
    "            magnz += spins[ir,itau]\n",
    "            energy_tot -= J_spatial * sum(spins[ir,itau] .* spins[neighbors(ir), itau]) / 2  # compenstate for double counting of bonds \n",
    "            # periodic boundary conditions in imaginary time \n",
    "            itau_up = mod(itau, NTAU) + 1\n",
    "            energy_tot = energy_tot - J_Trotter * spins[ir,itau] * spins[ir,itau_up]\n",
    "        end\n",
    "    end\n",
    "    magnz /= (NTAU * NN)\n",
    "    energy_tot / (NTAU * NN), magnz, magnz^2, magnz^4\n",
    "end"
   ]
  },
  {
   "cell_type": "code",
   "execution_count": 45,
   "metadata": {},
   "outputs": [
    {
     "data": {
      "text/plain": [
       "run (generic function with 2 methods)"
      ]
     },
     "execution_count": 45,
     "metadata": {},
     "output_type": "execute_result"
    }
   ],
   "source": [
    "function run(ntherm::Int, nmeas::Int, model::AbstractModel, spins::SSESpins, bin::SSEBin)\n",
    "    println(\"thermalizing ...\")\n",
    "    for i=1:ntherm\n",
    "        sweep!(model, spins)\n",
    "    end\n",
    "    \n",
    "    println(\"measuring ...\")\n",
    "    for imeas = 1:nmeas\n",
    "        sweep!(model, spins)\n",
    "        res = measure(model, spins)\n",
    "        push!(bin, res)\n",
    "        \n",
    "        println(\"E  Mz  Mz²  Mz⁴\")\n",
    "        if fitted(bin)\n",
    "            println(bin)\n",
    "        end\n",
    "    end\n",
    "    bin\n",
    "end"
   ]
  },
  {
   "cell_type": "code",
   "execution_count": 46,
   "metadata": {},
   "outputs": [
    {
     "ename": "TypeError",
     "evalue": "TypeError: in Type, in parameter, expected Type, got NTuple{4,DataType}",
     "output_type": "error",
     "traceback": [
      "TypeError: in Type, in parameter, expected Type, got NTuple{4,DataType}",
      "",
      "Stacktrace:",
      " [1] SSEBin(::Int64, ::Type, ::Vararg{Type,N} where N) at ./In[40]:5",
      " [2] top-level scope at In[46]:5"
     ]
    }
   ],
   "source": [
    "Random.seed!(2)\n",
    "\n",
    "N = 27\n",
    "\n",
    "bin = SSEBin(200, Float64, Float64, Float64, Float64)\n",
    "lt = Chain(N)\n",
    "model = TFIModel(1.0, 0.5, 0.1, lt)\n",
    "initial_spins = ssespins(N, 200)\n",
    "\n",
    "run(mcc, model, initial_spins)"
   ]
  },
  {
   "cell_type": "code",
   "execution_count": 47,
   "metadata": {},
   "outputs": [
    {
     "ename": "TypeError",
     "evalue": "TypeError: in Type, in parameter, expected Type, got NTuple{4,DataType}",
     "output_type": "error",
     "traceback": [
      "TypeError: in Type, in parameter, expected Type, got NTuple{4,DataType}",
      "",
      "Stacktrace:",
      " [1] SSEBin(::Int64, ::Type, ::Vararg{Type,N} where N) at ./In[40]:5",
      " [2] top-level scope at In[47]:1"
     ]
    }
   ],
   "source": [
    "SSEBin(200, Float64, Float64, Float64, Float64)"
   ]
  },
  {
   "cell_type": "code",
   "execution_count": null,
   "metadata": {},
   "outputs": [],
   "source": []
  }
 ],
 "metadata": {
  "kernelspec": {
   "display_name": "Julia 1.0.0",
   "language": "julia",
   "name": "julia-1.0"
  },
  "language_info": {
   "file_extension": ".jl",
   "mimetype": "application/julia",
   "name": "julia",
   "version": "1.0.0"
  }
 },
 "nbformat": 4,
 "nbformat_minor": 2
}
